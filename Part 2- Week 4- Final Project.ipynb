{
 "cells": [
  {
   "cell_type": "markdown",
   "metadata": {},
   "source": [
    "# The battle of Neighborhoods\n"
   ]
  },
  {
   "cell_type": "markdown",
   "metadata": {},
   "source": [
    "## Week 4 : b"
   ]
  },
  {
   "cell_type": "markdown",
   "metadata": {},
   "source": [
    "## Title : Restaurant recommender system in Bangalore\n"
   ]
  },
  {
   "cell_type": "markdown",
   "metadata": {},
   "source": [
    "### Data requirements:"
   ]
  },
  {
   "cell_type": "markdown",
   "metadata": {},
   "source": [
    "To find a solution to these questions and build a recommender model, we need the right data. Data can answer question which are unimaginable and non-answerable by us. Having the right and clean data at our fingertips will help solve the problems that we have discussed earlier on.\n",
    "Let's consider the current situation:\n",
    "When we want to find a restaurant, we need 3 things:\n",
    "1.\tIts geographical coordinates (latitude and longitude) to find out where exactly it is located.\n",
    "2.\tPopulation of the neighbourhood where the restaurant is located.\n",
    "3.\tAverage income of neighbourhood to know how much is the restaurant worth.\n",
    "\n",
    "\n",
    "Now, let’s take a closer look at each of these:\n",
    "1.\tTo access location of a restaurant, its Latitude and Longitude is to be known so that we can point at its coordinates and create a map displaying all the restaurants with its labels respectively.\n",
    "2.\tThe walk-in customers determine the rating of the restaurant and the more the customers, the more welcoming it becomes to other people who might enter seeing a good crowd. Population of a neighbourhood is very important factor in determining a restaurant's growth and number of customers who visit the restaurant. Hence is a very important factor to be considered.\n",
    "3.\tIncome is in direct proportion to earning capacity of a neighbourhood. If people in a neighbourhood earns more than an average income, then it is very much possible that they will spend more however not always true with very less probability. So, a restaurant assessment is proportional to income of a neighbourhood.\n"
   ]
  },
  {
   "cell_type": "markdown",
   "metadata": {},
   "source": [
    "### Data collection:"
   ]
  },
  {
   "cell_type": "markdown",
   "metadata": {},
   "source": [
    "Data collection:\n",
    "\n",
    "Data is collected through various online sources like Wikipedia, Indian government website and has been complied into a data frame that looks like below:\n",
    " \n",
    "The population of Bengaluru is taken into account to form a data frame:\n",
    "   \n",
    "The income of Bengaluru is also considered and made into a data frame:\n",
    "\n",
    "The map is used to explore Bangalore Neighbours using Four Square API. As it is seen the different regions of Bangalore are colour coded and that gives a clear picture of the different areas.\n",
    "\n",
    "\n"
   ]
  },
  {
   "cell_type": "code",
   "execution_count": null,
   "metadata": {},
   "outputs": [],
   "source": []
  }
 ],
 "metadata": {
  "kernelspec": {
   "display_name": "Python",
   "language": "python",
   "name": "conda-env-python-py"
  },
  "language_info": {
   "codemirror_mode": {
    "name": "ipython",
    "version": 3
   },
   "file_extension": ".py",
   "mimetype": "text/x-python",
   "name": "python",
   "nbconvert_exporter": "python",
   "pygments_lexer": "ipython3",
   "version": "3.6.11"
  }
 },
 "nbformat": 4,
 "nbformat_minor": 4
}

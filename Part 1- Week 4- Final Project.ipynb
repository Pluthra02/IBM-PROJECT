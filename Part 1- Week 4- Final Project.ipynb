{
 "cells": [
  {
   "cell_type": "markdown",
   "metadata": {},
   "source": [
    "# The battle of Neighborhoods\n"
   ]
  },
  {
   "cell_type": "markdown",
   "metadata": {},
   "source": [
    "## Week 4 : a."
   ]
  },
  {
   "cell_type": "markdown",
   "metadata": {},
   "source": [
    "### Title : Restaurant recommender system in Bangalore\n",
    "\n"
   ]
  },
  {
   "cell_type": "markdown",
   "metadata": {},
   "source": [
    "### Introduction:"
   ]
  },
  {
   "cell_type": "markdown",
   "metadata": {},
   "source": [
    "Recommender Engines or Systems are among the most popular applications of data science today. They are used to predict the “rating” or “preference” that a user would give to an item.\n",
    "Recommender systems are algorithms aimed at suggesting relevant items to users (items being movies to watch, text to read, products to buy or anything else depending on industries).\n",
    "As the World Wide Web continues to grow at an exponential rate, the size and complexity of many web sites grow along with it. For the users of these web sites, it becomes increasingly difficult and time-consuming to find the information they are looking for. User interfaces could help users find the information that is in accordance with their interests by personalizing a web site.\n",
    "Restaurant recommender system is a machine learning model\n",
    "The overview of this project is to recommend restaurants based on user’s likes and dislikes and his previous interest data.\n",
    "\n"
   ]
  },
  {
   "cell_type": "markdown",
   "metadata": {},
   "source": [
    "### Problem Statement: "
   ]
  },
  {
   "cell_type": "markdown",
   "metadata": {},
   "source": [
    "Today we all travel to new places all the time. But going to a new place can sometimes become a burden, especially if you do not know where to eat. Food is such a basic part of our lives that sometimes we forget how important it is to find the right connect.\n",
    "In such situation, food can be an important factor for decided how you rate your trips and recommending it to people. Food can also attract people around to world to try it out if it is the best or has been made famous in the past. In such scenarios, we need to find the right place, at reasonable cost, to serve us the best possible way. So, there are few questions that must be addressed, such as:\n",
    "1.What type of foods is available in the restaurant and is their variety?\n",
    "2.Which place has the best rating near me?\n",
    "3.How many \"similar\" restaurants are available near me of my previous tastes and liking?\n",
    "4.What speciality do these restaurants have as each place tends to have some?\n",
    "To address such question, XXYZ company's manager decides to allocate this project to me not just to find out solutions to the questions but also build a system that can help in recommending new places based on their rankings compared to the previously visited by me.\n",
    "Expectations from this recommender system is to get answer for the questions, and in such a way that it uncovers all the perspective of managing recommendations. Some of these questions are:\n",
    "1.The types of restaurants in specific areas?\n",
    "2.Which area can I target to find my “liking” restaurants?\n",
    "3.Ranking the different restaurants in my preferences?\n"
   ]
  },
  {
   "cell_type": "code",
   "execution_count": null,
   "metadata": {},
   "outputs": [],
   "source": []
  }
 ],
 "metadata": {
  "kernelspec": {
   "display_name": "Python",
   "language": "python",
   "name": "conda-env-python-py"
  },
  "language_info": {
   "codemirror_mode": {
    "name": "ipython",
    "version": 3
   },
   "file_extension": ".py",
   "mimetype": "text/x-python",
   "name": "python",
   "nbconvert_exporter": "python",
   "pygments_lexer": "ipython3",
   "version": "3.6.11"
  }
 },
 "nbformat": 4,
 "nbformat_minor": 4
}
